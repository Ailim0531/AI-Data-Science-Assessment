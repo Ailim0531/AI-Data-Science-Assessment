{
 "cells": [
  {
   "cell_type": "markdown",
   "source": [
    "Question 3:\r\n",
    "\r\n",
    "a. What is the probability of the word “data” occurring in each line ?"
   ],
   "metadata": {}
  },
  {
   "cell_type": "code",
   "execution_count": 15,
   "source": [
    "#import library\r\n",
    "import pandas as pd\r\n",
    "import nltk\r\n",
    "from nltk.tokenize import sent_tokenize  #sentence tokenization\r\n",
    "from collections import Counter\r\n",
    "import re\r\n"
   ],
   "outputs": [],
   "metadata": {}
  },
  {
   "cell_type": "code",
   "execution_count": 3,
   "source": [
    "TextGiven = \"\"\"As a term, data analytics predominantly refers to an assortment of applications, from basic \\nbusiness intelligence (BI), reporting and online analytical processing (OLAP) to various forms of \\nadvanced analytics. In that sense, it's similar in nature to business analytics, another umbrella \\nterm for approaches to analyzing data -- with the difference that the latter is oriented to \\nbusiness uses, while data analytics has a broader focus. The expansive view of the term isn't \\nuniversal, though: In some cases, people use data analytics specifically to mean advanced \\nanalytics, treating BI as a separate category. Data analytics initiatives can help businesses \\nincrease revenues, improve operational efficiency, optimize marketing campaigns and customer \\nservice efforts, respond more quickly to emerging market trends and gain a competitive edge \\nover rivals -- all with the ultimate goal of boosting business performance. Depending on the \\nparticular application, the data that's analyzed can consist of either historical records or new \\ninformation that has been processed for real-time analytics uses. In addition, it can come from a \\nmix of internal systems and external data sources. At a high level, data analytics methodologies \\ninclude exploratory data analysis (EDA), which aims to find patterns and relationships in data, \\nand confirmatory data analysis (CDA), which applies statistical techniques to determine whether \\nhypotheses about a data set are true or false. EDA is often compared to detective work, while \\nCDA is akin to the work of a judge or jury during a court trial -- a distinction first drawn by \\nstatistician John W. Tukey in his 1977 book Exploratory Data Analysis. Data analytics can also \\nbe separated into quantitative data analysis and qualitative data analysis. The former involves \\nanalysis of numerical data with quantifiable variables that can be compared or measured \\nstatistically. The qualitative approach is more interpretive -- it focuses on understanding the \\ncontent of non-numerical data like text, images, audio and video, including common phrases, \\nthemes and points of view.\"\"\"\r\n",
    "print(TextGiven)"
   ],
   "outputs": [
    {
     "output_type": "stream",
     "name": "stdout",
     "text": [
      "As a term, data analytics predominantly refers to an assortment of applications, from basic \n",
      "business intelligence (BI), reporting and online analytical processing (OLAP) to various forms of \n",
      "advanced analytics. In that sense, it's similar in nature to business analytics, another umbrella \n",
      "term for approaches to analyzing data -- with the difference that the latter is oriented to \n",
      "business uses, while data analytics has a broader focus. The expansive view of the term isn't \n",
      "universal, though: In some cases, people use data analytics specifically to mean advanced \n",
      "analytics, treating BI as a separate category. Data analytics initiatives can help businesses \n",
      "increase revenues, improve operational efficiency, optimize marketing campaigns and customer \n",
      "service efforts, respond more quickly to emerging market trends and gain a competitive edge \n",
      "over rivals -- all with the ultimate goal of boosting business performance. Depending on the \n",
      "particular application, the data that's analyzed can consist of either historical records or new \n",
      "information that has been processed for real-time analytics uses. In addition, it can come from a \n",
      "mix of internal systems and external data sources. At a high level, data analytics methodologies \n",
      "include exploratory data analysis (EDA), which aims to find patterns and relationships in data, \n",
      "and confirmatory data analysis (CDA), which applies statistical techniques to determine whether \n",
      "hypotheses about a data set are true or false. EDA is often compared to detective work, while \n",
      "CDA is akin to the work of a judge or jury during a court trial -- a distinction first drawn by \n",
      "statistician John W. Tukey in his 1977 book Exploratory Data Analysis. Data analytics can also \n",
      "be separated into quantitative data analysis and qualitative data analysis. The former involves \n",
      "analysis of numerical data with quantifiable variables that can be compared or measured \n",
      "statistically. The qualitative approach is more interpretive -- it focuses on understanding the \n",
      "content of non-numerical data like text, images, audio and video, including common phrases, \n",
      "themes and points of view.\n"
     ]
    }
   ],
   "metadata": {}
  },
  {
   "cell_type": "code",
   "execution_count": 4,
   "source": [
    "lower_text = TextGiven.lower()"
   ],
   "outputs": [],
   "metadata": {}
  },
  {
   "cell_type": "code",
   "execution_count": 5,
   "source": [
    "line_list = lower_text.splitlines()\r\n",
    "line_list"
   ],
   "outputs": [
    {
     "output_type": "execute_result",
     "data": {
      "text/plain": [
       "['as a term, data analytics predominantly refers to an assortment of applications, from basic ',\n",
       " 'business intelligence (bi), reporting and online analytical processing (olap) to various forms of ',\n",
       " \"advanced analytics. in that sense, it's similar in nature to business analytics, another umbrella \",\n",
       " 'term for approaches to analyzing data -- with the difference that the latter is oriented to ',\n",
       " \"business uses, while data analytics has a broader focus. the expansive view of the term isn't \",\n",
       " 'universal, though: in some cases, people use data analytics specifically to mean advanced ',\n",
       " 'analytics, treating bi as a separate category. data analytics initiatives can help businesses ',\n",
       " 'increase revenues, improve operational efficiency, optimize marketing campaigns and customer ',\n",
       " 'service efforts, respond more quickly to emerging market trends and gain a competitive edge ',\n",
       " 'over rivals -- all with the ultimate goal of boosting business performance. depending on the ',\n",
       " \"particular application, the data that's analyzed can consist of either historical records or new \",\n",
       " 'information that has been processed for real-time analytics uses. in addition, it can come from a ',\n",
       " 'mix of internal systems and external data sources. at a high level, data analytics methodologies ',\n",
       " 'include exploratory data analysis (eda), which aims to find patterns and relationships in data, ',\n",
       " 'and confirmatory data analysis (cda), which applies statistical techniques to determine whether ',\n",
       " 'hypotheses about a data set are true or false. eda is often compared to detective work, while ',\n",
       " 'cda is akin to the work of a judge or jury during a court trial -- a distinction first drawn by ',\n",
       " 'statistician john w. tukey in his 1977 book exploratory data analysis. data analytics can also ',\n",
       " 'be separated into quantitative data analysis and qualitative data analysis. the former involves ',\n",
       " 'analysis of numerical data with quantifiable variables that can be compared or measured ',\n",
       " 'statistically. the qualitative approach is more interpretive -- it focuses on understanding the ',\n",
       " 'content of non-numerical data like text, images, audio and video, including common phrases, ',\n",
       " 'themes and points of view.']"
      ]
     },
     "metadata": {},
     "execution_count": 5
    }
   ],
   "metadata": {}
  },
  {
   "cell_type": "code",
   "execution_count": 6,
   "source": [
    "nltk.download('punkt')"
   ],
   "outputs": [
    {
     "output_type": "stream",
     "name": "stderr",
     "text": [
      "[nltk_data] Downloading package punkt to\n",
      "[nltk_data]     C:\\Users\\Z\\AppData\\Roaming\\nltk_data...\n",
      "[nltk_data]   Package punkt is already up-to-date!\n"
     ]
    },
    {
     "output_type": "execute_result",
     "data": {
      "text/plain": [
       "True"
      ]
     },
     "metadata": {},
     "execution_count": 6
    }
   ],
   "metadata": {}
  },
  {
   "cell_type": "code",
   "execution_count": 7,
   "source": [
    "no_lines = len(line_list)\r\n",
    "no_lines"
   ],
   "outputs": [
    {
     "output_type": "execute_result",
     "data": {
      "text/plain": [
       "23"
      ]
     },
     "metadata": {},
     "execution_count": 7
    }
   ],
   "metadata": {}
  },
  {
   "cell_type": "code",
   "execution_count": 12,
   "source": [
    "def tokenize(text):\r\n",
    "    return re.compile('\\w+').findall(text)\r\n",
    "\r\n",
    "def word_freq(text): \r\n",
    "    text1 = tokenize(text.lower())\r\n",
    "    c = Counter(text1)           # count the words\r\n",
    "    d = Counter(''.join(text1))  # count all letters\r\n",
    "    return (dict(c))    # return a tuple of counted words and letters\r\n",
    "\r\n",
    "def return_freq(text): \r\n",
    "    text1 = tokenize(text.lower())\r\n",
    "    c = Counter(text1)           # count the words\r\n",
    "    d = Counter(''.join(text1))  # count all letters\r\n",
    "    return (dict(c), dict(d))    # return a tuple of counted words and letters\r\n",
    "\r\n",
    "for i in range(no_lines):\r\n",
    "    print(word_freq(line_list[i]))\r\n",
    "\r\n",
    "words = word_freq(TextGiven) # count and get dicts with counts\r\n",
    "words_, letters = return_freq(TextGiven)\r\n",
    "\r\n",
    "TotalWords = sum(words.values())       # sum total words\r\n",
    "TotalLetters = sum(letters.values())   # sum total letters\r\n",
    "TotalWords"
   ],
   "outputs": [
    {
     "output_type": "stream",
     "name": "stdout",
     "text": [
      "{'as': 1, 'a': 1, 'term': 1, 'data': 1, 'analytics': 1, 'predominantly': 1, 'refers': 1, 'to': 1, 'an': 1, 'assortment': 1, 'of': 1, 'applications': 1, 'from': 1, 'basic': 1}\n",
      "{'business': 1, 'intelligence': 1, 'bi': 1, 'reporting': 1, 'and': 1, 'online': 1, 'analytical': 1, 'processing': 1, 'olap': 1, 'to': 1, 'various': 1, 'forms': 1, 'of': 1}\n",
      "{'advanced': 1, 'analytics': 2, 'in': 2, 'that': 1, 'sense': 1, 'it': 1, 's': 1, 'similar': 1, 'nature': 1, 'to': 1, 'business': 1, 'another': 1, 'umbrella': 1}\n",
      "{'term': 1, 'for': 1, 'approaches': 1, 'to': 2, 'analyzing': 1, 'data': 1, 'with': 1, 'the': 2, 'difference': 1, 'that': 1, 'latter': 1, 'is': 1, 'oriented': 1}\n",
      "{'business': 1, 'uses': 1, 'while': 1, 'data': 1, 'analytics': 1, 'has': 1, 'a': 1, 'broader': 1, 'focus': 1, 'the': 2, 'expansive': 1, 'view': 1, 'of': 1, 'term': 1, 'isn': 1, 't': 1}\n",
      "{'universal': 1, 'though': 1, 'in': 1, 'some': 1, 'cases': 1, 'people': 1, 'use': 1, 'data': 1, 'analytics': 1, 'specifically': 1, 'to': 1, 'mean': 1, 'advanced': 1}\n",
      "{'analytics': 2, 'treating': 1, 'bi': 1, 'as': 1, 'a': 1, 'separate': 1, 'category': 1, 'data': 1, 'initiatives': 1, 'can': 1, 'help': 1, 'businesses': 1}\n",
      "{'increase': 1, 'revenues': 1, 'improve': 1, 'operational': 1, 'efficiency': 1, 'optimize': 1, 'marketing': 1, 'campaigns': 1, 'and': 1, 'customer': 1}\n",
      "{'service': 1, 'efforts': 1, 'respond': 1, 'more': 1, 'quickly': 1, 'to': 1, 'emerging': 1, 'market': 1, 'trends': 1, 'and': 1, 'gain': 1, 'a': 1, 'competitive': 1, 'edge': 1}\n",
      "{'over': 1, 'rivals': 1, 'all': 1, 'with': 1, 'the': 2, 'ultimate': 1, 'goal': 1, 'of': 1, 'boosting': 1, 'business': 1, 'performance': 1, 'depending': 1, 'on': 1}\n",
      "{'particular': 1, 'application': 1, 'the': 1, 'data': 1, 'that': 1, 's': 1, 'analyzed': 1, 'can': 1, 'consist': 1, 'of': 1, 'either': 1, 'historical': 1, 'records': 1, 'or': 1, 'new': 1}\n",
      "{'information': 1, 'that': 1, 'has': 1, 'been': 1, 'processed': 1, 'for': 1, 'real': 1, 'time': 1, 'analytics': 1, 'uses': 1, 'in': 1, 'addition': 1, 'it': 1, 'can': 1, 'come': 1, 'from': 1, 'a': 1}\n",
      "{'mix': 1, 'of': 1, 'internal': 1, 'systems': 1, 'and': 1, 'external': 1, 'data': 2, 'sources': 1, 'at': 1, 'a': 1, 'high': 1, 'level': 1, 'analytics': 1, 'methodologies': 1}\n",
      "{'include': 1, 'exploratory': 1, 'data': 2, 'analysis': 1, 'eda': 1, 'which': 1, 'aims': 1, 'to': 1, 'find': 1, 'patterns': 1, 'and': 1, 'relationships': 1, 'in': 1}\n",
      "{'and': 1, 'confirmatory': 1, 'data': 1, 'analysis': 1, 'cda': 1, 'which': 1, 'applies': 1, 'statistical': 1, 'techniques': 1, 'to': 1, 'determine': 1, 'whether': 1}\n",
      "{'hypotheses': 1, 'about': 1, 'a': 1, 'data': 1, 'set': 1, 'are': 1, 'true': 1, 'or': 1, 'false': 1, 'eda': 1, 'is': 1, 'often': 1, 'compared': 1, 'to': 1, 'detective': 1, 'work': 1, 'while': 1}\n",
      "{'cda': 1, 'is': 1, 'akin': 1, 'to': 1, 'the': 1, 'work': 1, 'of': 1, 'a': 3, 'judge': 1, 'or': 1, 'jury': 1, 'during': 1, 'court': 1, 'trial': 1, 'distinction': 1, 'first': 1, 'drawn': 1, 'by': 1}\n",
      "{'statistician': 1, 'john': 1, 'w': 1, 'tukey': 1, 'in': 1, 'his': 1, '1977': 1, 'book': 1, 'exploratory': 1, 'data': 2, 'analysis': 1, 'analytics': 1, 'can': 1, 'also': 1}\n",
      "{'be': 1, 'separated': 1, 'into': 1, 'quantitative': 1, 'data': 2, 'analysis': 2, 'and': 1, 'qualitative': 1, 'the': 1, 'former': 1, 'involves': 1}\n",
      "{'analysis': 1, 'of': 1, 'numerical': 1, 'data': 1, 'with': 1, 'quantifiable': 1, 'variables': 1, 'that': 1, 'can': 1, 'be': 1, 'compared': 1, 'or': 1, 'measured': 1}\n",
      "{'statistically': 1, 'the': 2, 'qualitative': 1, 'approach': 1, 'is': 1, 'more': 1, 'interpretive': 1, 'it': 1, 'focuses': 1, 'on': 1, 'understanding': 1}\n",
      "{'content': 1, 'of': 1, 'non': 1, 'numerical': 1, 'data': 1, 'like': 1, 'text': 1, 'images': 1, 'audio': 1, 'and': 1, 'video': 1, 'including': 1, 'common': 1, 'phrases': 1}\n",
      "{'themes': 1, 'and': 1, 'points': 1, 'of': 1, 'view': 1}\n"
     ]
    },
    {
     "output_type": "execute_result",
     "data": {
      "text/plain": [
       "320"
      ]
     },
     "metadata": {},
     "execution_count": 12
    }
   ],
   "metadata": {}
  },
  {
   "cell_type": "code",
   "execution_count": 13,
   "source": [
    "ini_dict = [{'as': 1, 'a': 1, 'term': 1, 'data': 1, 'analytics': 1, 'predominantly': 1, 'refers': 1, 'to': 1, 'an': 1, 'assortment': 1, 'of': 1, 'applications': 1, 'from': 1, 'basic': 1},\r\n",
    "{'business': 1, 'intelligence': 1, 'bi': 1, 'reporting': 1, 'and': 1, 'online': 1, 'analytical': 1, 'processing': 1, 'olap': 1, 'to': 1, 'various': 1, 'forms': 1, 'of': 1},\r\n",
    "{'advanced': 1, 'analytics': 2, 'in': 2, 'that': 1, 'sense': 1, 'it': 1, 's': 1, 'similar': 1, 'nature': 1, 'to': 1, 'business': 1, 'another': 1, 'umbrella': 1},\r\n",
    "{'term': 1, 'for': 1, 'approaches': 1, 'to': 2, 'analyzing': 1, 'data': 1, 'with': 1, 'the': 2, 'difference': 1, 'that': 1, 'latter': 1, 'is': 1, 'oriented': 1},\r\n",
    "{'business': 1, 'uses': 1, 'while': 1, 'data': 1, 'analytics': 1, 'has': 1, 'a': 1, 'broader': 1, 'focus': 1, 'the': 2, 'expansive': 1, 'view': 1, 'of': 1, 'term': 1, 'isn': 1, 't': 1},\r\n",
    "{'universal': 1, 'though': 1, 'in': 1, 'some': 1, 'cases': 1, 'people': 1, 'use': 1, 'data': 1, 'analytics': 1, 'specifically': 1, 'to': 1, 'mean': 1, 'advanced': 1},\r\n",
    "{'analytics': 2, 'treating': 1, 'bi': 1, 'as': 1, 'a': 1, 'separate': 1, 'category': 1, 'data': 1, 'initiatives': 1, 'can': 1, 'help': 1, 'businesses': 1},\r\n",
    "{'increase': 1, 'revenues': 1, 'improve': 1, 'operational': 1, 'efficiency': 1, 'optimize': 1, 'marketing': 1, 'campaigns': 1, 'and': 1, 'customer': 1},\r\n",
    "{'service': 1, 'efforts': 1, 'respond': 1, 'more': 1, 'quickly': 1, 'to': 1, 'emerging': 1, 'market': 1, 'trends': 1, 'and': 1, 'gain': 1, 'a': 1, 'competitive': 1, 'edge': 1},\r\n",
    "{'over': 1, 'rivals': 1, 'all': 1, 'with': 1, 'the': 2, 'ultimate': 1, 'goal': 1, 'of': 1, 'boosting': 1, 'business': 1, 'performance': 1, 'depending': 1, 'on': 1},\r\n",
    "{'particular': 1, 'application': 1, 'the': 1, 'data': 1, 'that': 1, 's': 1, 'analyzed': 1, 'can': 1, 'consist': 1, 'of': 1, 'either': 1, 'historical': 1, 'records': 1, 'or': 1, 'new': 1},\r\n",
    "{'information': 1, 'that': 1, 'has': 1, 'been': 1, 'processed': 1, 'for': 1, 'real': 1, 'time': 1, 'analytics': 1, 'uses': 1, 'in': 1, 'addition': 1, 'it': 1, 'can': 1, 'come': 1, 'from': 1, 'a': 1},\r\n",
    "{'mix': 1, 'of': 1, 'internal': 1, 'systems': 1, 'and': 1, 'external': 1, 'data': 2, 'sources': 1, 'at': 1, 'a': 1, 'high': 1, 'level': 1, 'analytics': 1, 'methodologies': 1},\r\n",
    "{'include': 1, 'exploratory': 1, 'data': 2, 'analysis': 1, 'eda': 1, 'which': 1, 'aims': 1, 'to': 1, 'find': 1, 'patterns': 1, 'and': 1, 'relationships': 1, 'in': 1},\r\n",
    "{'and': 1, 'confirmatory': 1, 'data': 1, 'analysis': 1, 'cda': 1, 'which': 1, 'applies': 1, 'statistical': 1, 'techniques': 1, 'to': 1, 'determine': 1, 'whether': 1},\r\n",
    "{'hypotheses': 1, 'about': 1, 'a': 1, 'data': 1, 'set': 1, 'are': 1, 'true': 1, 'or': 1, 'false': 1, 'eda': 1, 'is': 1, 'often': 1, 'compared': 1, 'to': 1, 'detective': 1, 'work': 1, 'while': 1},\r\n",
    "{'cda': 1, 'is': 1, 'akin': 1, 'to': 1, 'the': 1, 'work': 1, 'of': 1, 'a': 3, 'judge': 1, 'or': 1, 'jury': 1, 'during': 1, 'court': 1, 'trial': 1, 'distinction': 1, 'first': 1, 'drawn': 1, 'by': 1},\r\n",
    "{'statistician': 1, 'john': 1, 'w': 1, 'tukey': 1, 'in': 1, 'his': 1, '1977': 1, 'book': 1, 'exploratory': 1, 'data': 2, 'analysis': 1, 'analytics': 1, 'can': 1, 'also': 1},\r\n",
    "{'be': 1, 'separated': 1, 'into': 1, 'quantitative': 1, 'data': 2, 'analysis': 2, 'and': 1, 'qualitative': 1, 'the': 1, 'former': 1, 'involves': 1},\r\n",
    "{'analysis': 1, 'of': 1, 'numerical': 1, 'data': 1, 'with': 1, 'quantifiable': 1, 'variables': 1, 'that': 1, 'can': 1, 'be': 1, 'compared': 1, 'or': 1, 'measured': 1},\r\n",
    "{'statistically': 1, 'the': 2, 'qualitative': 1, 'approach': 1, 'is': 1, 'more': 1, 'interpretive': 1, 'it': 1, 'focuses': 1, 'on': 1, 'understanding': 1},\r\n",
    "{'content': 1, 'of': 1, 'non': 1, 'numerical': 1, 'data': 1, 'like': 1, 'text': 1, 'images': 1, 'audio': 1, 'and': 1, 'video': 1, 'including': 1, 'common': 1, 'phrases': 1},\r\n",
    "{'themes': 1, 'and': 1, 'points': 1, 'of': 1, 'view': 1}]"
   ],
   "outputs": [],
   "metadata": {}
  },
  {
   "cell_type": "code",
   "execution_count": 19,
   "source": [
    "import collections\r\n",
    "from collections import Counter\r\n",
    "counter = collections.Counter()\r\n",
    "\r\n",
    "for d in ini_dict: \r\n",
    "    counter.update(d)      \r\n",
    "\r\n",
    "result = dict(counter)\r\n",
    "  \r\n",
    "\r\n",
    "print(str(counter))"
   ],
   "outputs": [
    {
     "output_type": "stream",
     "name": "stdout",
     "text": [
      "Counter({'data': 18, 'to': 11, 'the': 11, 'a': 10, 'analytics': 10, 'of': 10, 'and': 9, 'in': 6, 'analysis': 6, 'that': 5, 'can': 5, 'business': 4, 'is': 4, 'or': 4, 'term': 3, 'it': 3, 'with': 3, 'as': 2, 'from': 2, 'bi': 2, 'advanced': 2, 's': 2, 'for': 2, 'uses': 2, 'while': 2, 'has': 2, 'view': 2, 'more': 2, 'on': 2, 'exploratory': 2, 'eda': 2, 'which': 2, 'cda': 2, 'compared': 2, 'work': 2, 'be': 2, 'qualitative': 2, 'numerical': 2, 'predominantly': 1, 'refers': 1, 'an': 1, 'assortment': 1, 'applications': 1, 'basic': 1, 'intelligence': 1, 'reporting': 1, 'online': 1, 'analytical': 1, 'processing': 1, 'olap': 1, 'various': 1, 'forms': 1, 'sense': 1, 'similar': 1, 'nature': 1, 'another': 1, 'umbrella': 1, 'approaches': 1, 'analyzing': 1, 'difference': 1, 'latter': 1, 'oriented': 1, 'broader': 1, 'focus': 1, 'expansive': 1, 'isn': 1, 't': 1, 'universal': 1, 'though': 1, 'some': 1, 'cases': 1, 'people': 1, 'use': 1, 'specifically': 1, 'mean': 1, 'treating': 1, 'separate': 1, 'category': 1, 'initiatives': 1, 'help': 1, 'businesses': 1, 'increase': 1, 'revenues': 1, 'improve': 1, 'operational': 1, 'efficiency': 1, 'optimize': 1, 'marketing': 1, 'campaigns': 1, 'customer': 1, 'service': 1, 'efforts': 1, 'respond': 1, 'quickly': 1, 'emerging': 1, 'market': 1, 'trends': 1, 'gain': 1, 'competitive': 1, 'edge': 1, 'over': 1, 'rivals': 1, 'all': 1, 'ultimate': 1, 'goal': 1, 'boosting': 1, 'performance': 1, 'depending': 1, 'particular': 1, 'application': 1, 'analyzed': 1, 'consist': 1, 'either': 1, 'historical': 1, 'records': 1, 'new': 1, 'information': 1, 'been': 1, 'processed': 1, 'real': 1, 'time': 1, 'addition': 1, 'come': 1, 'mix': 1, 'internal': 1, 'systems': 1, 'external': 1, 'sources': 1, 'at': 1, 'high': 1, 'level': 1, 'methodologies': 1, 'include': 1, 'aims': 1, 'find': 1, 'patterns': 1, 'relationships': 1, 'confirmatory': 1, 'applies': 1, 'statistical': 1, 'techniques': 1, 'determine': 1, 'whether': 1, 'hypotheses': 1, 'about': 1, 'set': 1, 'are': 1, 'true': 1, 'false': 1, 'often': 1, 'detective': 1, 'akin': 1, 'judge': 1, 'jury': 1, 'during': 1, 'court': 1, 'trial': 1, 'distinction': 1, 'first': 1, 'drawn': 1, 'by': 1, 'statistician': 1, 'john': 1, 'w': 1, 'tukey': 1, 'his': 1, '1977': 1, 'book': 1, 'also': 1, 'separated': 1, 'into': 1, 'quantitative': 1, 'former': 1, 'involves': 1, 'quantifiable': 1, 'variables': 1, 'measured': 1, 'statistically': 1, 'approach': 1, 'interpretive': 1, 'focuses': 1, 'understanding': 1, 'content': 1, 'non': 1, 'like': 1, 'text': 1, 'images': 1, 'audio': 1, 'video': 1, 'including': 1, 'common': 1, 'phrases': 1, 'themes': 1, 'points': 1})\n"
     ]
    }
   ],
   "metadata": {}
  },
  {
   "cell_type": "code",
   "execution_count": 20,
   "source": [
    "prob_data = 18/TotalWords\r\n",
    "prob_data"
   ],
   "outputs": [
    {
     "output_type": "execute_result",
     "data": {
      "text/plain": [
       "0.05625"
      ]
     },
     "metadata": {},
     "execution_count": 20
    }
   ],
   "metadata": {}
  },
  {
   "cell_type": "markdown",
   "source": [
    "Summary:\r\n",
    "\r\n",
    "The probability of the word “data” occurring in whole text is 0.05625"
   ],
   "metadata": {}
  },
  {
   "cell_type": "markdown",
   "source": [
    "Q3b)"
   ],
   "metadata": {}
  },
  {
   "cell_type": "code",
   "execution_count": 22,
   "source": [
    "data_analysis = nltk.FreqDist(tokenize(TextGiven.lower()))\r\n",
    " \r\n",
    "filter_words = dict([(a, b) for a, b in data_analysis.items() if len(a) > 3])\r\n",
    " \r\n",
    "for key in sorted(filter_words):\r\n",
    "    print(\"%s: %s\" % (key, filter_words[key]))\r\n",
    " \r\n",
    "data_analysis = nltk.FreqDist(filter_words)\r\n",
    " \r\n",
    "data_analysis.plot(10, cumulative = False)"
   ],
   "outputs": [
    {
     "output_type": "stream",
     "name": "stdout",
     "text": [
      "1977: 1\n",
      "about: 1\n",
      "addition: 1\n",
      "advanced: 2\n",
      "aims: 1\n",
      "akin: 1\n",
      "also: 1\n",
      "analysis: 6\n",
      "analytical: 1\n",
      "analytics: 10\n",
      "analyzed: 1\n",
      "analyzing: 1\n",
      "another: 1\n",
      "application: 1\n",
      "applications: 1\n",
      "applies: 1\n",
      "approach: 1\n",
      "approaches: 1\n",
      "assortment: 1\n",
      "audio: 1\n",
      "basic: 1\n",
      "been: 1\n",
      "book: 1\n",
      "boosting: 1\n",
      "broader: 1\n",
      "business: 4\n",
      "businesses: 1\n",
      "campaigns: 1\n",
      "cases: 1\n",
      "category: 1\n",
      "come: 1\n",
      "common: 1\n",
      "compared: 2\n",
      "competitive: 1\n",
      "confirmatory: 1\n",
      "consist: 1\n",
      "content: 1\n",
      "court: 1\n",
      "customer: 1\n",
      "data: 18\n",
      "depending: 1\n",
      "detective: 1\n",
      "determine: 1\n",
      "difference: 1\n",
      "distinction: 1\n",
      "drawn: 1\n",
      "during: 1\n",
      "edge: 1\n",
      "efficiency: 1\n",
      "efforts: 1\n",
      "either: 1\n",
      "emerging: 1\n",
      "expansive: 1\n",
      "exploratory: 2\n",
      "external: 1\n",
      "false: 1\n",
      "find: 1\n",
      "first: 1\n",
      "focus: 1\n",
      "focuses: 1\n",
      "former: 1\n",
      "forms: 1\n",
      "from: 2\n",
      "gain: 1\n",
      "goal: 1\n",
      "help: 1\n",
      "high: 1\n",
      "historical: 1\n",
      "hypotheses: 1\n",
      "images: 1\n",
      "improve: 1\n",
      "include: 1\n",
      "including: 1\n",
      "increase: 1\n",
      "information: 1\n",
      "initiatives: 1\n",
      "intelligence: 1\n",
      "internal: 1\n",
      "interpretive: 1\n",
      "into: 1\n",
      "involves: 1\n",
      "john: 1\n",
      "judge: 1\n",
      "jury: 1\n",
      "latter: 1\n",
      "level: 1\n",
      "like: 1\n",
      "market: 1\n",
      "marketing: 1\n",
      "mean: 1\n",
      "measured: 1\n",
      "methodologies: 1\n",
      "more: 2\n",
      "nature: 1\n",
      "numerical: 2\n",
      "often: 1\n",
      "olap: 1\n",
      "online: 1\n",
      "operational: 1\n",
      "optimize: 1\n",
      "oriented: 1\n",
      "over: 1\n",
      "particular: 1\n",
      "patterns: 1\n",
      "people: 1\n",
      "performance: 1\n",
      "phrases: 1\n",
      "points: 1\n",
      "predominantly: 1\n",
      "processed: 1\n",
      "processing: 1\n",
      "qualitative: 2\n",
      "quantifiable: 1\n",
      "quantitative: 1\n",
      "quickly: 1\n",
      "real: 1\n",
      "records: 1\n",
      "refers: 1\n",
      "relationships: 1\n",
      "reporting: 1\n",
      "respond: 1\n",
      "revenues: 1\n",
      "rivals: 1\n",
      "sense: 1\n",
      "separate: 1\n",
      "separated: 1\n",
      "service: 1\n",
      "similar: 1\n",
      "some: 1\n",
      "sources: 1\n",
      "specifically: 1\n",
      "statistical: 1\n",
      "statistically: 1\n",
      "statistician: 1\n",
      "systems: 1\n",
      "techniques: 1\n",
      "term: 3\n",
      "text: 1\n",
      "that: 5\n",
      "themes: 1\n",
      "though: 1\n",
      "time: 1\n",
      "treating: 1\n",
      "trends: 1\n",
      "trial: 1\n",
      "true: 1\n",
      "tukey: 1\n",
      "ultimate: 1\n",
      "umbrella: 1\n",
      "understanding: 1\n",
      "universal: 1\n",
      "uses: 2\n",
      "variables: 1\n",
      "various: 1\n",
      "video: 1\n",
      "view: 2\n",
      "whether: 1\n",
      "which: 2\n",
      "while: 2\n",
      "with: 3\n",
      "work: 2\n"
     ]
    },
    {
     "output_type": "display_data",
     "data": {
      "text/plain": [
       "<Figure size 432x288 with 1 Axes>"
      ],
      "image/svg+xml": "<?xml version=\"1.0\" encoding=\"utf-8\" standalone=\"no\"?>\r\n<!DOCTYPE svg PUBLIC \"-//W3C//DTD SVG 1.1//EN\"\r\n  \"http://www.w3.org/Graphics/SVG/1.1/DTD/svg11.dtd\">\r\n<svg height=\"301.379062pt\" version=\"1.1\" viewBox=\"0 0 382.603125 301.379062\" width=\"382.603125pt\" xmlns=\"http://www.w3.org/2000/svg\" xmlns:xlink=\"http://www.w3.org/1999/xlink\">\r\n <metadata>\r\n  <rdf:RDF xmlns:cc=\"http://creativecommons.org/ns#\" xmlns:dc=\"http://purl.org/dc/elements/1.1/\" xmlns:rdf=\"http://www.w3.org/1999/02/22-rdf-syntax-ns#\">\r\n   <cc:Work>\r\n    <dc:type rdf:resource=\"http://purl.org/dc/dcmitype/StillImage\"/>\r\n    <dc:date>2021-08-10T10:29:37.520577</dc:date>\r\n    <dc:format>image/svg+xml</dc:format>\r\n    <dc:creator>\r\n     <cc:Agent>\r\n      <dc:title>Matplotlib v3.4.2, https://matplotlib.org/</dc:title>\r\n     </cc:Agent>\r\n    </dc:creator>\r\n   </cc:Work>\r\n  </rdf:RDF>\r\n </metadata>\r\n <defs>\r\n  <style type=\"text/css\">*{stroke-linecap:butt;stroke-linejoin:round;}</style>\r\n </defs>\r\n <g id=\"figure_1\">\r\n  <g id=\"patch_1\">\r\n   <path d=\"M 0 301.379062 \r\nL 382.603125 301.379062 \r\nL 382.603125 0 \r\nL 0 0 \r\nz\r\n\" style=\"fill:none;\"/>\r\n  </g>\r\n  <g id=\"axes_1\">\r\n   <g id=\"patch_2\">\r\n    <path d=\"M 40.603125 224.64 \r\nL 375.403125 224.64 \r\nL 375.403125 7.2 \r\nL 40.603125 7.2 \r\nz\r\n\" style=\"fill:#ffffff;\"/>\r\n   </g>\r\n   <g id=\"matplotlib.axis_1\">\r\n    <g id=\"xtick_1\">\r\n     <g id=\"line2d_1\">\r\n      <path clip-path=\"url(#p08d3d04cab)\" d=\"M 55.821307 224.64 \r\nL 55.821307 7.2 \r\n\" style=\"fill:none;stroke:#c0c0c0;stroke-linecap:square;stroke-width:0.8;\"/>\r\n     </g>\r\n     <g id=\"line2d_2\">\r\n      <defs>\r\n       <path d=\"M 0 0 \r\nL 0 3.5 \r\n\" id=\"m2d202425fe\" style=\"stroke:#000000;stroke-width:0.8;\"/>\r\n      </defs>\r\n      <g>\r\n       <use style=\"stroke:#000000;stroke-width:0.8;\" x=\"55.821307\" xlink:href=\"#m2d202425fe\" y=\"224.64\"/>\r\n      </g>\r\n     </g>\r\n     <g id=\"text_1\">\r\n      <!-- data -->\r\n      <g transform=\"translate(58.580682 254.165)rotate(-90)scale(0.1 -0.1)\">\r\n       <defs>\r\n        <path d=\"M 2906 2969 \r\nL 2906 4863 \r\nL 3481 4863 \r\nL 3481 0 \r\nL 2906 0 \r\nL 2906 525 \r\nQ 2725 213 2448 61 \r\nQ 2172 -91 1784 -91 \r\nQ 1150 -91 751 415 \r\nQ 353 922 353 1747 \r\nQ 353 2572 751 3078 \r\nQ 1150 3584 1784 3584 \r\nQ 2172 3584 2448 3432 \r\nQ 2725 3281 2906 2969 \r\nz\r\nM 947 1747 \r\nQ 947 1113 1208 752 \r\nQ 1469 391 1925 391 \r\nQ 2381 391 2643 752 \r\nQ 2906 1113 2906 1747 \r\nQ 2906 2381 2643 2742 \r\nQ 2381 3103 1925 3103 \r\nQ 1469 3103 1208 2742 \r\nQ 947 2381 947 1747 \r\nz\r\n\" id=\"DejaVuSans-64\" transform=\"scale(0.015625)\"/>\r\n        <path d=\"M 2194 1759 \r\nQ 1497 1759 1228 1600 \r\nQ 959 1441 959 1056 \r\nQ 959 750 1161 570 \r\nQ 1363 391 1709 391 \r\nQ 2188 391 2477 730 \r\nQ 2766 1069 2766 1631 \r\nL 2766 1759 \r\nL 2194 1759 \r\nz\r\nM 3341 1997 \r\nL 3341 0 \r\nL 2766 0 \r\nL 2766 531 \r\nQ 2569 213 2275 61 \r\nQ 1981 -91 1556 -91 \r\nQ 1019 -91 701 211 \r\nQ 384 513 384 1019 \r\nQ 384 1609 779 1909 \r\nQ 1175 2209 1959 2209 \r\nL 2766 2209 \r\nL 2766 2266 \r\nQ 2766 2663 2505 2880 \r\nQ 2244 3097 1772 3097 \r\nQ 1472 3097 1187 3025 \r\nQ 903 2953 641 2809 \r\nL 641 3341 \r\nQ 956 3463 1253 3523 \r\nQ 1550 3584 1831 3584 \r\nQ 2591 3584 2966 3190 \r\nQ 3341 2797 3341 1997 \r\nz\r\n\" id=\"DejaVuSans-61\" transform=\"scale(0.015625)\"/>\r\n        <path d=\"M 1172 4494 \r\nL 1172 3500 \r\nL 2356 3500 \r\nL 2356 3053 \r\nL 1172 3053 \r\nL 1172 1153 \r\nQ 1172 725 1289 603 \r\nQ 1406 481 1766 481 \r\nL 2356 481 \r\nL 2356 0 \r\nL 1766 0 \r\nQ 1100 0 847 248 \r\nQ 594 497 594 1153 \r\nL 594 3053 \r\nL 172 3053 \r\nL 172 3500 \r\nL 594 3500 \r\nL 594 4494 \r\nL 1172 4494 \r\nz\r\n\" id=\"DejaVuSans-74\" transform=\"scale(0.015625)\"/>\r\n       </defs>\r\n       <use xlink:href=\"#DejaVuSans-64\"/>\r\n       <use x=\"63.476562\" xlink:href=\"#DejaVuSans-61\"/>\r\n       <use x=\"124.755859\" xlink:href=\"#DejaVuSans-74\"/>\r\n       <use x=\"163.964844\" xlink:href=\"#DejaVuSans-61\"/>\r\n      </g>\r\n     </g>\r\n    </g>\r\n    <g id=\"xtick_2\">\r\n     <g id=\"line2d_3\">\r\n      <path clip-path=\"url(#p08d3d04cab)\" d=\"M 89.639489 224.64 \r\nL 89.639489 7.2 \r\n\" style=\"fill:none;stroke:#c0c0c0;stroke-linecap:square;stroke-width:0.8;\"/>\r\n     </g>\r\n     <g id=\"line2d_4\">\r\n      <g>\r\n       <use style=\"stroke:#000000;stroke-width:0.8;\" x=\"89.639489\" xlink:href=\"#m2d202425fe\" y=\"224.64\"/>\r\n      </g>\r\n     </g>\r\n     <g id=\"text_2\">\r\n      <!-- analytics -->\r\n      <g transform=\"translate(92.398864 276.336875)rotate(-90)scale(0.1 -0.1)\">\r\n       <defs>\r\n        <path d=\"M 3513 2113 \r\nL 3513 0 \r\nL 2938 0 \r\nL 2938 2094 \r\nQ 2938 2591 2744 2837 \r\nQ 2550 3084 2163 3084 \r\nQ 1697 3084 1428 2787 \r\nQ 1159 2491 1159 1978 \r\nL 1159 0 \r\nL 581 0 \r\nL 581 3500 \r\nL 1159 3500 \r\nL 1159 2956 \r\nQ 1366 3272 1645 3428 \r\nQ 1925 3584 2291 3584 \r\nQ 2894 3584 3203 3211 \r\nQ 3513 2838 3513 2113 \r\nz\r\n\" id=\"DejaVuSans-6e\" transform=\"scale(0.015625)\"/>\r\n        <path d=\"M 603 4863 \r\nL 1178 4863 \r\nL 1178 0 \r\nL 603 0 \r\nL 603 4863 \r\nz\r\n\" id=\"DejaVuSans-6c\" transform=\"scale(0.015625)\"/>\r\n        <path d=\"M 2059 -325 \r\nQ 1816 -950 1584 -1140 \r\nQ 1353 -1331 966 -1331 \r\nL 506 -1331 \r\nL 506 -850 \r\nL 844 -850 \r\nQ 1081 -850 1212 -737 \r\nQ 1344 -625 1503 -206 \r\nL 1606 56 \r\nL 191 3500 \r\nL 800 3500 \r\nL 1894 763 \r\nL 2988 3500 \r\nL 3597 3500 \r\nL 2059 -325 \r\nz\r\n\" id=\"DejaVuSans-79\" transform=\"scale(0.015625)\"/>\r\n        <path d=\"M 603 3500 \r\nL 1178 3500 \r\nL 1178 0 \r\nL 603 0 \r\nL 603 3500 \r\nz\r\nM 603 4863 \r\nL 1178 4863 \r\nL 1178 4134 \r\nL 603 4134 \r\nL 603 4863 \r\nz\r\n\" id=\"DejaVuSans-69\" transform=\"scale(0.015625)\"/>\r\n        <path d=\"M 3122 3366 \r\nL 3122 2828 \r\nQ 2878 2963 2633 3030 \r\nQ 2388 3097 2138 3097 \r\nQ 1578 3097 1268 2742 \r\nQ 959 2388 959 1747 \r\nQ 959 1106 1268 751 \r\nQ 1578 397 2138 397 \r\nQ 2388 397 2633 464 \r\nQ 2878 531 3122 666 \r\nL 3122 134 \r\nQ 2881 22 2623 -34 \r\nQ 2366 -91 2075 -91 \r\nQ 1284 -91 818 406 \r\nQ 353 903 353 1747 \r\nQ 353 2603 823 3093 \r\nQ 1294 3584 2113 3584 \r\nQ 2378 3584 2631 3529 \r\nQ 2884 3475 3122 3366 \r\nz\r\n\" id=\"DejaVuSans-63\" transform=\"scale(0.015625)\"/>\r\n        <path d=\"M 2834 3397 \r\nL 2834 2853 \r\nQ 2591 2978 2328 3040 \r\nQ 2066 3103 1784 3103 \r\nQ 1356 3103 1142 2972 \r\nQ 928 2841 928 2578 \r\nQ 928 2378 1081 2264 \r\nQ 1234 2150 1697 2047 \r\nL 1894 2003 \r\nQ 2506 1872 2764 1633 \r\nQ 3022 1394 3022 966 \r\nQ 3022 478 2636 193 \r\nQ 2250 -91 1575 -91 \r\nQ 1294 -91 989 -36 \r\nQ 684 19 347 128 \r\nL 347 722 \r\nQ 666 556 975 473 \r\nQ 1284 391 1588 391 \r\nQ 1994 391 2212 530 \r\nQ 2431 669 2431 922 \r\nQ 2431 1156 2273 1281 \r\nQ 2116 1406 1581 1522 \r\nL 1381 1569 \r\nQ 847 1681 609 1914 \r\nQ 372 2147 372 2553 \r\nQ 372 3047 722 3315 \r\nQ 1072 3584 1716 3584 \r\nQ 2034 3584 2315 3537 \r\nQ 2597 3491 2834 3397 \r\nz\r\n\" id=\"DejaVuSans-73\" transform=\"scale(0.015625)\"/>\r\n       </defs>\r\n       <use xlink:href=\"#DejaVuSans-61\"/>\r\n       <use x=\"61.279297\" xlink:href=\"#DejaVuSans-6e\"/>\r\n       <use x=\"124.658203\" xlink:href=\"#DejaVuSans-61\"/>\r\n       <use x=\"185.9375\" xlink:href=\"#DejaVuSans-6c\"/>\r\n       <use x=\"213.720703\" xlink:href=\"#DejaVuSans-79\"/>\r\n       <use x=\"272.900391\" xlink:href=\"#DejaVuSans-74\"/>\r\n       <use x=\"312.109375\" xlink:href=\"#DejaVuSans-69\"/>\r\n       <use x=\"339.892578\" xlink:href=\"#DejaVuSans-63\"/>\r\n       <use x=\"394.873047\" xlink:href=\"#DejaVuSans-73\"/>\r\n      </g>\r\n     </g>\r\n    </g>\r\n    <g id=\"xtick_3\">\r\n     <g id=\"line2d_5\">\r\n      <path clip-path=\"url(#p08d3d04cab)\" d=\"M 123.45767 224.64 \r\nL 123.45767 7.2 \r\n\" style=\"fill:none;stroke:#c0c0c0;stroke-linecap:square;stroke-width:0.8;\"/>\r\n     </g>\r\n     <g id=\"line2d_6\">\r\n      <g>\r\n       <use style=\"stroke:#000000;stroke-width:0.8;\" x=\"123.45767\" xlink:href=\"#m2d202425fe\" y=\"224.64\"/>\r\n      </g>\r\n     </g>\r\n     <g id=\"text_3\">\r\n      <!-- analysis -->\r\n      <g transform=\"translate(126.217045 272.1275)rotate(-90)scale(0.1 -0.1)\">\r\n       <use xlink:href=\"#DejaVuSans-61\"/>\r\n       <use x=\"61.279297\" xlink:href=\"#DejaVuSans-6e\"/>\r\n       <use x=\"124.658203\" xlink:href=\"#DejaVuSans-61\"/>\r\n       <use x=\"185.9375\" xlink:href=\"#DejaVuSans-6c\"/>\r\n       <use x=\"213.720703\" xlink:href=\"#DejaVuSans-79\"/>\r\n       <use x=\"272.900391\" xlink:href=\"#DejaVuSans-73\"/>\r\n       <use x=\"325\" xlink:href=\"#DejaVuSans-69\"/>\r\n       <use x=\"352.783203\" xlink:href=\"#DejaVuSans-73\"/>\r\n      </g>\r\n     </g>\r\n    </g>\r\n    <g id=\"xtick_4\">\r\n     <g id=\"line2d_7\">\r\n      <path clip-path=\"url(#p08d3d04cab)\" d=\"M 157.275852 224.64 \r\nL 157.275852 7.2 \r\n\" style=\"fill:none;stroke:#c0c0c0;stroke-linecap:square;stroke-width:0.8;\"/>\r\n     </g>\r\n     <g id=\"line2d_8\">\r\n      <g>\r\n       <use style=\"stroke:#000000;stroke-width:0.8;\" x=\"157.275852\" xlink:href=\"#m2d202425fe\" y=\"224.64\"/>\r\n      </g>\r\n     </g>\r\n     <g id=\"text_4\">\r\n      <!-- that -->\r\n      <g transform=\"translate(160.035227 251.94625)rotate(-90)scale(0.1 -0.1)\">\r\n       <defs>\r\n        <path d=\"M 3513 2113 \r\nL 3513 0 \r\nL 2938 0 \r\nL 2938 2094 \r\nQ 2938 2591 2744 2837 \r\nQ 2550 3084 2163 3084 \r\nQ 1697 3084 1428 2787 \r\nQ 1159 2491 1159 1978 \r\nL 1159 0 \r\nL 581 0 \r\nL 581 4863 \r\nL 1159 4863 \r\nL 1159 2956 \r\nQ 1366 3272 1645 3428 \r\nQ 1925 3584 2291 3584 \r\nQ 2894 3584 3203 3211 \r\nQ 3513 2838 3513 2113 \r\nz\r\n\" id=\"DejaVuSans-68\" transform=\"scale(0.015625)\"/>\r\n       </defs>\r\n       <use xlink:href=\"#DejaVuSans-74\"/>\r\n       <use x=\"39.208984\" xlink:href=\"#DejaVuSans-68\"/>\r\n       <use x=\"102.587891\" xlink:href=\"#DejaVuSans-61\"/>\r\n       <use x=\"163.867188\" xlink:href=\"#DejaVuSans-74\"/>\r\n      </g>\r\n     </g>\r\n    </g>\r\n    <g id=\"xtick_5\">\r\n     <g id=\"line2d_9\">\r\n      <path clip-path=\"url(#p08d3d04cab)\" d=\"M 191.094034 224.64 \r\nL 191.094034 7.2 \r\n\" style=\"fill:none;stroke:#c0c0c0;stroke-linecap:square;stroke-width:0.8;\"/>\r\n     </g>\r\n     <g id=\"line2d_10\">\r\n      <g>\r\n       <use style=\"stroke:#000000;stroke-width:0.8;\" x=\"191.094034\" xlink:href=\"#m2d202425fe\" y=\"224.64\"/>\r\n      </g>\r\n     </g>\r\n     <g id=\"text_5\">\r\n      <!-- business -->\r\n      <g transform=\"translate(193.853409 275.222812)rotate(-90)scale(0.1 -0.1)\">\r\n       <defs>\r\n        <path d=\"M 3116 1747 \r\nQ 3116 2381 2855 2742 \r\nQ 2594 3103 2138 3103 \r\nQ 1681 3103 1420 2742 \r\nQ 1159 2381 1159 1747 \r\nQ 1159 1113 1420 752 \r\nQ 1681 391 2138 391 \r\nQ 2594 391 2855 752 \r\nQ 3116 1113 3116 1747 \r\nz\r\nM 1159 2969 \r\nQ 1341 3281 1617 3432 \r\nQ 1894 3584 2278 3584 \r\nQ 2916 3584 3314 3078 \r\nQ 3713 2572 3713 1747 \r\nQ 3713 922 3314 415 \r\nQ 2916 -91 2278 -91 \r\nQ 1894 -91 1617 61 \r\nQ 1341 213 1159 525 \r\nL 1159 0 \r\nL 581 0 \r\nL 581 4863 \r\nL 1159 4863 \r\nL 1159 2969 \r\nz\r\n\" id=\"DejaVuSans-62\" transform=\"scale(0.015625)\"/>\r\n        <path d=\"M 544 1381 \r\nL 544 3500 \r\nL 1119 3500 \r\nL 1119 1403 \r\nQ 1119 906 1312 657 \r\nQ 1506 409 1894 409 \r\nQ 2359 409 2629 706 \r\nQ 2900 1003 2900 1516 \r\nL 2900 3500 \r\nL 3475 3500 \r\nL 3475 0 \r\nL 2900 0 \r\nL 2900 538 \r\nQ 2691 219 2414 64 \r\nQ 2138 -91 1772 -91 \r\nQ 1169 -91 856 284 \r\nQ 544 659 544 1381 \r\nz\r\nM 1991 3584 \r\nL 1991 3584 \r\nz\r\n\" id=\"DejaVuSans-75\" transform=\"scale(0.015625)\"/>\r\n        <path d=\"M 3597 1894 \r\nL 3597 1613 \r\nL 953 1613 \r\nQ 991 1019 1311 708 \r\nQ 1631 397 2203 397 \r\nQ 2534 397 2845 478 \r\nQ 3156 559 3463 722 \r\nL 3463 178 \r\nQ 3153 47 2828 -22 \r\nQ 2503 -91 2169 -91 \r\nQ 1331 -91 842 396 \r\nQ 353 884 353 1716 \r\nQ 353 2575 817 3079 \r\nQ 1281 3584 2069 3584 \r\nQ 2775 3584 3186 3129 \r\nQ 3597 2675 3597 1894 \r\nz\r\nM 3022 2063 \r\nQ 3016 2534 2758 2815 \r\nQ 2500 3097 2075 3097 \r\nQ 1594 3097 1305 2825 \r\nQ 1016 2553 972 2059 \r\nL 3022 2063 \r\nz\r\n\" id=\"DejaVuSans-65\" transform=\"scale(0.015625)\"/>\r\n       </defs>\r\n       <use xlink:href=\"#DejaVuSans-62\"/>\r\n       <use x=\"63.476562\" xlink:href=\"#DejaVuSans-75\"/>\r\n       <use x=\"126.855469\" xlink:href=\"#DejaVuSans-73\"/>\r\n       <use x=\"178.955078\" xlink:href=\"#DejaVuSans-69\"/>\r\n       <use x=\"206.738281\" xlink:href=\"#DejaVuSans-6e\"/>\r\n       <use x=\"270.117188\" xlink:href=\"#DejaVuSans-65\"/>\r\n       <use x=\"331.640625\" xlink:href=\"#DejaVuSans-73\"/>\r\n       <use x=\"383.740234\" xlink:href=\"#DejaVuSans-73\"/>\r\n      </g>\r\n     </g>\r\n    </g>\r\n    <g id=\"xtick_6\">\r\n     <g id=\"line2d_11\">\r\n      <path clip-path=\"url(#p08d3d04cab)\" d=\"M 224.912216 224.64 \r\nL 224.912216 7.2 \r\n\" style=\"fill:none;stroke:#c0c0c0;stroke-linecap:square;stroke-width:0.8;\"/>\r\n     </g>\r\n     <g id=\"line2d_12\">\r\n      <g>\r\n       <use style=\"stroke:#000000;stroke-width:0.8;\" x=\"224.912216\" xlink:href=\"#m2d202425fe\" y=\"224.64\"/>\r\n      </g>\r\n     </g>\r\n     <g id=\"text_6\">\r\n      <!-- term -->\r\n      <g transform=\"translate(227.671591 255.39)rotate(-90)scale(0.1 -0.1)\">\r\n       <defs>\r\n        <path d=\"M 2631 2963 \r\nQ 2534 3019 2420 3045 \r\nQ 2306 3072 2169 3072 \r\nQ 1681 3072 1420 2755 \r\nQ 1159 2438 1159 1844 \r\nL 1159 0 \r\nL 581 0 \r\nL 581 3500 \r\nL 1159 3500 \r\nL 1159 2956 \r\nQ 1341 3275 1631 3429 \r\nQ 1922 3584 2338 3584 \r\nQ 2397 3584 2469 3576 \r\nQ 2541 3569 2628 3553 \r\nL 2631 2963 \r\nz\r\n\" id=\"DejaVuSans-72\" transform=\"scale(0.015625)\"/>\r\n        <path d=\"M 3328 2828 \r\nQ 3544 3216 3844 3400 \r\nQ 4144 3584 4550 3584 \r\nQ 5097 3584 5394 3201 \r\nQ 5691 2819 5691 2113 \r\nL 5691 0 \r\nL 5113 0 \r\nL 5113 2094 \r\nQ 5113 2597 4934 2840 \r\nQ 4756 3084 4391 3084 \r\nQ 3944 3084 3684 2787 \r\nQ 3425 2491 3425 1978 \r\nL 3425 0 \r\nL 2847 0 \r\nL 2847 2094 \r\nQ 2847 2600 2669 2842 \r\nQ 2491 3084 2119 3084 \r\nQ 1678 3084 1418 2786 \r\nQ 1159 2488 1159 1978 \r\nL 1159 0 \r\nL 581 0 \r\nL 581 3500 \r\nL 1159 3500 \r\nL 1159 2956 \r\nQ 1356 3278 1631 3431 \r\nQ 1906 3584 2284 3584 \r\nQ 2666 3584 2933 3390 \r\nQ 3200 3197 3328 2828 \r\nz\r\n\" id=\"DejaVuSans-6d\" transform=\"scale(0.015625)\"/>\r\n       </defs>\r\n       <use xlink:href=\"#DejaVuSans-74\"/>\r\n       <use x=\"39.208984\" xlink:href=\"#DejaVuSans-65\"/>\r\n       <use x=\"100.732422\" xlink:href=\"#DejaVuSans-72\"/>\r\n       <use x=\"140.095703\" xlink:href=\"#DejaVuSans-6d\"/>\r\n      </g>\r\n     </g>\r\n    </g>\r\n    <g id=\"xtick_7\">\r\n     <g id=\"line2d_13\">\r\n      <path clip-path=\"url(#p08d3d04cab)\" d=\"M 258.730398 224.64 \r\nL 258.730398 7.2 \r\n\" style=\"fill:none;stroke:#c0c0c0;stroke-linecap:square;stroke-width:0.8;\"/>\r\n     </g>\r\n     <g id=\"line2d_14\">\r\n      <g>\r\n       <use style=\"stroke:#000000;stroke-width:0.8;\" x=\"258.730398\" xlink:href=\"#m2d202425fe\" y=\"224.64\"/>\r\n      </g>\r\n     </g>\r\n     <g id=\"text_7\">\r\n      <!-- with -->\r\n      <g transform=\"translate(261.489773 252.854062)rotate(-90)scale(0.1 -0.1)\">\r\n       <defs>\r\n        <path d=\"M 269 3500 \r\nL 844 3500 \r\nL 1563 769 \r\nL 2278 3500 \r\nL 2956 3500 \r\nL 3675 769 \r\nL 4391 3500 \r\nL 4966 3500 \r\nL 4050 0 \r\nL 3372 0 \r\nL 2619 2869 \r\nL 1863 0 \r\nL 1184 0 \r\nL 269 3500 \r\nz\r\n\" id=\"DejaVuSans-77\" transform=\"scale(0.015625)\"/>\r\n       </defs>\r\n       <use xlink:href=\"#DejaVuSans-77\"/>\r\n       <use x=\"81.787109\" xlink:href=\"#DejaVuSans-69\"/>\r\n       <use x=\"109.570312\" xlink:href=\"#DejaVuSans-74\"/>\r\n       <use x=\"148.779297\" xlink:href=\"#DejaVuSans-68\"/>\r\n      </g>\r\n     </g>\r\n    </g>\r\n    <g id=\"xtick_8\">\r\n     <g id=\"line2d_15\">\r\n      <path clip-path=\"url(#p08d3d04cab)\" d=\"M 292.54858 224.64 \r\nL 292.54858 7.2 \r\n\" style=\"fill:none;stroke:#c0c0c0;stroke-linecap:square;stroke-width:0.8;\"/>\r\n     </g>\r\n     <g id=\"line2d_16\">\r\n      <g>\r\n       <use style=\"stroke:#000000;stroke-width:0.8;\" x=\"292.54858\" xlink:href=\"#m2d202425fe\" y=\"224.64\"/>\r\n      </g>\r\n     </g>\r\n     <g id=\"text_8\">\r\n      <!-- from -->\r\n      <g transform=\"translate(295.307955 254.905625)rotate(-90)scale(0.1 -0.1)\">\r\n       <defs>\r\n        <path d=\"M 2375 4863 \r\nL 2375 4384 \r\nL 1825 4384 \r\nQ 1516 4384 1395 4259 \r\nQ 1275 4134 1275 3809 \r\nL 1275 3500 \r\nL 2222 3500 \r\nL 2222 3053 \r\nL 1275 3053 \r\nL 1275 0 \r\nL 697 0 \r\nL 697 3053 \r\nL 147 3053 \r\nL 147 3500 \r\nL 697 3500 \r\nL 697 3744 \r\nQ 697 4328 969 4595 \r\nQ 1241 4863 1831 4863 \r\nL 2375 4863 \r\nz\r\n\" id=\"DejaVuSans-66\" transform=\"scale(0.015625)\"/>\r\n        <path d=\"M 1959 3097 \r\nQ 1497 3097 1228 2736 \r\nQ 959 2375 959 1747 \r\nQ 959 1119 1226 758 \r\nQ 1494 397 1959 397 \r\nQ 2419 397 2687 759 \r\nQ 2956 1122 2956 1747 \r\nQ 2956 2369 2687 2733 \r\nQ 2419 3097 1959 3097 \r\nz\r\nM 1959 3584 \r\nQ 2709 3584 3137 3096 \r\nQ 3566 2609 3566 1747 \r\nQ 3566 888 3137 398 \r\nQ 2709 -91 1959 -91 \r\nQ 1206 -91 779 398 \r\nQ 353 888 353 1747 \r\nQ 353 2609 779 3096 \r\nQ 1206 3584 1959 3584 \r\nz\r\n\" id=\"DejaVuSans-6f\" transform=\"scale(0.015625)\"/>\r\n       </defs>\r\n       <use xlink:href=\"#DejaVuSans-66\"/>\r\n       <use x=\"35.205078\" xlink:href=\"#DejaVuSans-72\"/>\r\n       <use x=\"74.068359\" xlink:href=\"#DejaVuSans-6f\"/>\r\n       <use x=\"135.25\" xlink:href=\"#DejaVuSans-6d\"/>\r\n      </g>\r\n     </g>\r\n    </g>\r\n    <g id=\"xtick_9\">\r\n     <g id=\"line2d_17\">\r\n      <path clip-path=\"url(#p08d3d04cab)\" d=\"M 326.366761 224.64 \r\nL 326.366761 7.2 \r\n\" style=\"fill:none;stroke:#c0c0c0;stroke-linecap:square;stroke-width:0.8;\"/>\r\n     </g>\r\n     <g id=\"line2d_18\">\r\n      <g>\r\n       <use style=\"stroke:#000000;stroke-width:0.8;\" x=\"326.366761\" xlink:href=\"#m2d202425fe\" y=\"224.64\"/>\r\n      </g>\r\n     </g>\r\n     <g id=\"text_9\">\r\n      <!-- advanced -->\r\n      <g transform=\"translate(329.126136 280.500937)rotate(-90)scale(0.1 -0.1)\">\r\n       <defs>\r\n        <path d=\"M 191 3500 \r\nL 800 3500 \r\nL 1894 563 \r\nL 2988 3500 \r\nL 3597 3500 \r\nL 2284 0 \r\nL 1503 0 \r\nL 191 3500 \r\nz\r\n\" id=\"DejaVuSans-76\" transform=\"scale(0.015625)\"/>\r\n       </defs>\r\n       <use xlink:href=\"#DejaVuSans-61\"/>\r\n       <use x=\"61.279297\" xlink:href=\"#DejaVuSans-64\"/>\r\n       <use x=\"124.755859\" xlink:href=\"#DejaVuSans-76\"/>\r\n       <use x=\"183.935547\" xlink:href=\"#DejaVuSans-61\"/>\r\n       <use x=\"245.214844\" xlink:href=\"#DejaVuSans-6e\"/>\r\n       <use x=\"308.59375\" xlink:href=\"#DejaVuSans-63\"/>\r\n       <use x=\"363.574219\" xlink:href=\"#DejaVuSans-65\"/>\r\n       <use x=\"425.097656\" xlink:href=\"#DejaVuSans-64\"/>\r\n      </g>\r\n     </g>\r\n    </g>\r\n    <g id=\"xtick_10\">\r\n     <g id=\"line2d_19\">\r\n      <path clip-path=\"url(#p08d3d04cab)\" d=\"M 360.184943 224.64 \r\nL 360.184943 7.2 \r\n\" style=\"fill:none;stroke:#c0c0c0;stroke-linecap:square;stroke-width:0.8;\"/>\r\n     </g>\r\n     <g id=\"line2d_20\">\r\n      <g>\r\n       <use style=\"stroke:#000000;stroke-width:0.8;\" x=\"360.184943\" xlink:href=\"#m2d202425fe\" y=\"224.64\"/>\r\n      </g>\r\n     </g>\r\n     <g id=\"text_10\">\r\n      <!-- uses -->\r\n      <g transform=\"translate(362.944318 254.549375)rotate(-90)scale(0.1 -0.1)\">\r\n       <use xlink:href=\"#DejaVuSans-75\"/>\r\n       <use x=\"63.378906\" xlink:href=\"#DejaVuSans-73\"/>\r\n       <use x=\"115.478516\" xlink:href=\"#DejaVuSans-65\"/>\r\n       <use x=\"177.001953\" xlink:href=\"#DejaVuSans-73\"/>\r\n      </g>\r\n     </g>\r\n    </g>\r\n    <g id=\"text_11\">\r\n     <!-- Samples -->\r\n     <g transform=\"translate(186.65 292.099375)scale(0.1 -0.1)\">\r\n      <defs>\r\n       <path d=\"M 3425 4513 \r\nL 3425 3897 \r\nQ 3066 4069 2747 4153 \r\nQ 2428 4238 2131 4238 \r\nQ 1616 4238 1336 4038 \r\nQ 1056 3838 1056 3469 \r\nQ 1056 3159 1242 3001 \r\nQ 1428 2844 1947 2747 \r\nL 2328 2669 \r\nQ 3034 2534 3370 2195 \r\nQ 3706 1856 3706 1288 \r\nQ 3706 609 3251 259 \r\nQ 2797 -91 1919 -91 \r\nQ 1588 -91 1214 -16 \r\nQ 841 59 441 206 \r\nL 441 856 \r\nQ 825 641 1194 531 \r\nQ 1563 422 1919 422 \r\nQ 2459 422 2753 634 \r\nQ 3047 847 3047 1241 \r\nQ 3047 1584 2836 1778 \r\nQ 2625 1972 2144 2069 \r\nL 1759 2144 \r\nQ 1053 2284 737 2584 \r\nQ 422 2884 422 3419 \r\nQ 422 4038 858 4394 \r\nQ 1294 4750 2059 4750 \r\nQ 2388 4750 2728 4690 \r\nQ 3069 4631 3425 4513 \r\nz\r\n\" id=\"DejaVuSans-53\" transform=\"scale(0.015625)\"/>\r\n       <path d=\"M 1159 525 \r\nL 1159 -1331 \r\nL 581 -1331 \r\nL 581 3500 \r\nL 1159 3500 \r\nL 1159 2969 \r\nQ 1341 3281 1617 3432 \r\nQ 1894 3584 2278 3584 \r\nQ 2916 3584 3314 3078 \r\nQ 3713 2572 3713 1747 \r\nQ 3713 922 3314 415 \r\nQ 2916 -91 2278 -91 \r\nQ 1894 -91 1617 61 \r\nQ 1341 213 1159 525 \r\nz\r\nM 3116 1747 \r\nQ 3116 2381 2855 2742 \r\nQ 2594 3103 2138 3103 \r\nQ 1681 3103 1420 2742 \r\nQ 1159 2381 1159 1747 \r\nQ 1159 1113 1420 752 \r\nQ 1681 391 2138 391 \r\nQ 2594 391 2855 752 \r\nQ 3116 1113 3116 1747 \r\nz\r\n\" id=\"DejaVuSans-70\" transform=\"scale(0.015625)\"/>\r\n      </defs>\r\n      <use xlink:href=\"#DejaVuSans-53\"/>\r\n      <use x=\"63.476562\" xlink:href=\"#DejaVuSans-61\"/>\r\n      <use x=\"124.755859\" xlink:href=\"#DejaVuSans-6d\"/>\r\n      <use x=\"222.167969\" xlink:href=\"#DejaVuSans-70\"/>\r\n      <use x=\"285.644531\" xlink:href=\"#DejaVuSans-6c\"/>\r\n      <use x=\"313.427734\" xlink:href=\"#DejaVuSans-65\"/>\r\n      <use x=\"374.951172\" xlink:href=\"#DejaVuSans-73\"/>\r\n     </g>\r\n    </g>\r\n   </g>\r\n   <g id=\"matplotlib.axis_2\">\r\n    <g id=\"ytick_1\">\r\n     <g id=\"line2d_21\">\r\n      <path clip-path=\"url(#p08d3d04cab)\" d=\"M 40.603125 214.756364 \r\nL 375.403125 214.756364 \r\n\" style=\"fill:none;stroke:#c0c0c0;stroke-linecap:square;stroke-width:0.8;\"/>\r\n     </g>\r\n     <g id=\"line2d_22\">\r\n      <defs>\r\n       <path d=\"M 0 0 \r\nL -3.5 0 \r\n\" id=\"mda38a52cf9\" style=\"stroke:#000000;stroke-width:0.8;\"/>\r\n      </defs>\r\n      <g>\r\n       <use style=\"stroke:#000000;stroke-width:0.8;\" x=\"40.603125\" xlink:href=\"#mda38a52cf9\" y=\"214.756364\"/>\r\n      </g>\r\n     </g>\r\n     <g id=\"text_12\">\r\n      <!-- 2 -->\r\n      <g transform=\"translate(27.240625 218.555582)scale(0.1 -0.1)\">\r\n       <defs>\r\n        <path d=\"M 1228 531 \r\nL 3431 531 \r\nL 3431 0 \r\nL 469 0 \r\nL 469 531 \r\nQ 828 903 1448 1529 \r\nQ 2069 2156 2228 2338 \r\nQ 2531 2678 2651 2914 \r\nQ 2772 3150 2772 3378 \r\nQ 2772 3750 2511 3984 \r\nQ 2250 4219 1831 4219 \r\nQ 1534 4219 1204 4116 \r\nQ 875 4013 500 3803 \r\nL 500 4441 \r\nQ 881 4594 1212 4672 \r\nQ 1544 4750 1819 4750 \r\nQ 2544 4750 2975 4387 \r\nQ 3406 4025 3406 3419 \r\nQ 3406 3131 3298 2873 \r\nQ 3191 2616 2906 2266 \r\nQ 2828 2175 2409 1742 \r\nQ 1991 1309 1228 531 \r\nz\r\n\" id=\"DejaVuSans-32\" transform=\"scale(0.015625)\"/>\r\n       </defs>\r\n       <use xlink:href=\"#DejaVuSans-32\"/>\r\n      </g>\r\n     </g>\r\n    </g>\r\n    <g id=\"ytick_2\">\r\n     <g id=\"line2d_23\">\r\n      <path clip-path=\"url(#p08d3d04cab)\" d=\"M 40.603125 190.047273 \r\nL 375.403125 190.047273 \r\n\" style=\"fill:none;stroke:#c0c0c0;stroke-linecap:square;stroke-width:0.8;\"/>\r\n     </g>\r\n     <g id=\"line2d_24\">\r\n      <g>\r\n       <use style=\"stroke:#000000;stroke-width:0.8;\" x=\"40.603125\" xlink:href=\"#mda38a52cf9\" y=\"190.047273\"/>\r\n      </g>\r\n     </g>\r\n     <g id=\"text_13\">\r\n      <!-- 4 -->\r\n      <g transform=\"translate(27.240625 193.846491)scale(0.1 -0.1)\">\r\n       <defs>\r\n        <path d=\"M 2419 4116 \r\nL 825 1625 \r\nL 2419 1625 \r\nL 2419 4116 \r\nz\r\nM 2253 4666 \r\nL 3047 4666 \r\nL 3047 1625 \r\nL 3713 1625 \r\nL 3713 1100 \r\nL 3047 1100 \r\nL 3047 0 \r\nL 2419 0 \r\nL 2419 1100 \r\nL 313 1100 \r\nL 313 1709 \r\nL 2253 4666 \r\nz\r\n\" id=\"DejaVuSans-34\" transform=\"scale(0.015625)\"/>\r\n       </defs>\r\n       <use xlink:href=\"#DejaVuSans-34\"/>\r\n      </g>\r\n     </g>\r\n    </g>\r\n    <g id=\"ytick_3\">\r\n     <g id=\"line2d_25\">\r\n      <path clip-path=\"url(#p08d3d04cab)\" d=\"M 40.603125 165.338182 \r\nL 375.403125 165.338182 \r\n\" style=\"fill:none;stroke:#c0c0c0;stroke-linecap:square;stroke-width:0.8;\"/>\r\n     </g>\r\n     <g id=\"line2d_26\">\r\n      <g>\r\n       <use style=\"stroke:#000000;stroke-width:0.8;\" x=\"40.603125\" xlink:href=\"#mda38a52cf9\" y=\"165.338182\"/>\r\n      </g>\r\n     </g>\r\n     <g id=\"text_14\">\r\n      <!-- 6 -->\r\n      <g transform=\"translate(27.240625 169.137401)scale(0.1 -0.1)\">\r\n       <defs>\r\n        <path d=\"M 2113 2584 \r\nQ 1688 2584 1439 2293 \r\nQ 1191 2003 1191 1497 \r\nQ 1191 994 1439 701 \r\nQ 1688 409 2113 409 \r\nQ 2538 409 2786 701 \r\nQ 3034 994 3034 1497 \r\nQ 3034 2003 2786 2293 \r\nQ 2538 2584 2113 2584 \r\nz\r\nM 3366 4563 \r\nL 3366 3988 \r\nQ 3128 4100 2886 4159 \r\nQ 2644 4219 2406 4219 \r\nQ 1781 4219 1451 3797 \r\nQ 1122 3375 1075 2522 \r\nQ 1259 2794 1537 2939 \r\nQ 1816 3084 2150 3084 \r\nQ 2853 3084 3261 2657 \r\nQ 3669 2231 3669 1497 \r\nQ 3669 778 3244 343 \r\nQ 2819 -91 2113 -91 \r\nQ 1303 -91 875 529 \r\nQ 447 1150 447 2328 \r\nQ 447 3434 972 4092 \r\nQ 1497 4750 2381 4750 \r\nQ 2619 4750 2861 4703 \r\nQ 3103 4656 3366 4563 \r\nz\r\n\" id=\"DejaVuSans-36\" transform=\"scale(0.015625)\"/>\r\n       </defs>\r\n       <use xlink:href=\"#DejaVuSans-36\"/>\r\n      </g>\r\n     </g>\r\n    </g>\r\n    <g id=\"ytick_4\">\r\n     <g id=\"line2d_27\">\r\n      <path clip-path=\"url(#p08d3d04cab)\" d=\"M 40.603125 140.629091 \r\nL 375.403125 140.629091 \r\n\" style=\"fill:none;stroke:#c0c0c0;stroke-linecap:square;stroke-width:0.8;\"/>\r\n     </g>\r\n     <g id=\"line2d_28\">\r\n      <g>\r\n       <use style=\"stroke:#000000;stroke-width:0.8;\" x=\"40.603125\" xlink:href=\"#mda38a52cf9\" y=\"140.629091\"/>\r\n      </g>\r\n     </g>\r\n     <g id=\"text_15\">\r\n      <!-- 8 -->\r\n      <g transform=\"translate(27.240625 144.42831)scale(0.1 -0.1)\">\r\n       <defs>\r\n        <path d=\"M 2034 2216 \r\nQ 1584 2216 1326 1975 \r\nQ 1069 1734 1069 1313 \r\nQ 1069 891 1326 650 \r\nQ 1584 409 2034 409 \r\nQ 2484 409 2743 651 \r\nQ 3003 894 3003 1313 \r\nQ 3003 1734 2745 1975 \r\nQ 2488 2216 2034 2216 \r\nz\r\nM 1403 2484 \r\nQ 997 2584 770 2862 \r\nQ 544 3141 544 3541 \r\nQ 544 4100 942 4425 \r\nQ 1341 4750 2034 4750 \r\nQ 2731 4750 3128 4425 \r\nQ 3525 4100 3525 3541 \r\nQ 3525 3141 3298 2862 \r\nQ 3072 2584 2669 2484 \r\nQ 3125 2378 3379 2068 \r\nQ 3634 1759 3634 1313 \r\nQ 3634 634 3220 271 \r\nQ 2806 -91 2034 -91 \r\nQ 1263 -91 848 271 \r\nQ 434 634 434 1313 \r\nQ 434 1759 690 2068 \r\nQ 947 2378 1403 2484 \r\nz\r\nM 1172 3481 \r\nQ 1172 3119 1398 2916 \r\nQ 1625 2713 2034 2713 \r\nQ 2441 2713 2670 2916 \r\nQ 2900 3119 2900 3481 \r\nQ 2900 3844 2670 4047 \r\nQ 2441 4250 2034 4250 \r\nQ 1625 4250 1398 4047 \r\nQ 1172 3844 1172 3481 \r\nz\r\n\" id=\"DejaVuSans-38\" transform=\"scale(0.015625)\"/>\r\n       </defs>\r\n       <use xlink:href=\"#DejaVuSans-38\"/>\r\n      </g>\r\n     </g>\r\n    </g>\r\n    <g id=\"ytick_5\">\r\n     <g id=\"line2d_29\">\r\n      <path clip-path=\"url(#p08d3d04cab)\" d=\"M 40.603125 115.92 \r\nL 375.403125 115.92 \r\n\" style=\"fill:none;stroke:#c0c0c0;stroke-linecap:square;stroke-width:0.8;\"/>\r\n     </g>\r\n     <g id=\"line2d_30\">\r\n      <g>\r\n       <use style=\"stroke:#000000;stroke-width:0.8;\" x=\"40.603125\" xlink:href=\"#mda38a52cf9\" y=\"115.92\"/>\r\n      </g>\r\n     </g>\r\n     <g id=\"text_16\">\r\n      <!-- 10 -->\r\n      <g transform=\"translate(20.878125 119.719219)scale(0.1 -0.1)\">\r\n       <defs>\r\n        <path d=\"M 794 531 \r\nL 1825 531 \r\nL 1825 4091 \r\nL 703 3866 \r\nL 703 4441 \r\nL 1819 4666 \r\nL 2450 4666 \r\nL 2450 531 \r\nL 3481 531 \r\nL 3481 0 \r\nL 794 0 \r\nL 794 531 \r\nz\r\n\" id=\"DejaVuSans-31\" transform=\"scale(0.015625)\"/>\r\n        <path d=\"M 2034 4250 \r\nQ 1547 4250 1301 3770 \r\nQ 1056 3291 1056 2328 \r\nQ 1056 1369 1301 889 \r\nQ 1547 409 2034 409 \r\nQ 2525 409 2770 889 \r\nQ 3016 1369 3016 2328 \r\nQ 3016 3291 2770 3770 \r\nQ 2525 4250 2034 4250 \r\nz\r\nM 2034 4750 \r\nQ 2819 4750 3233 4129 \r\nQ 3647 3509 3647 2328 \r\nQ 3647 1150 3233 529 \r\nQ 2819 -91 2034 -91 \r\nQ 1250 -91 836 529 \r\nQ 422 1150 422 2328 \r\nQ 422 3509 836 4129 \r\nQ 1250 4750 2034 4750 \r\nz\r\n\" id=\"DejaVuSans-30\" transform=\"scale(0.015625)\"/>\r\n       </defs>\r\n       <use xlink:href=\"#DejaVuSans-31\"/>\r\n       <use x=\"63.623047\" xlink:href=\"#DejaVuSans-30\"/>\r\n      </g>\r\n     </g>\r\n    </g>\r\n    <g id=\"ytick_6\">\r\n     <g id=\"line2d_31\">\r\n      <path clip-path=\"url(#p08d3d04cab)\" d=\"M 40.603125 91.210909 \r\nL 375.403125 91.210909 \r\n\" style=\"fill:none;stroke:#c0c0c0;stroke-linecap:square;stroke-width:0.8;\"/>\r\n     </g>\r\n     <g id=\"line2d_32\">\r\n      <g>\r\n       <use style=\"stroke:#000000;stroke-width:0.8;\" x=\"40.603125\" xlink:href=\"#mda38a52cf9\" y=\"91.210909\"/>\r\n      </g>\r\n     </g>\r\n     <g id=\"text_17\">\r\n      <!-- 12 -->\r\n      <g transform=\"translate(20.878125 95.010128)scale(0.1 -0.1)\">\r\n       <use xlink:href=\"#DejaVuSans-31\"/>\r\n       <use x=\"63.623047\" xlink:href=\"#DejaVuSans-32\"/>\r\n      </g>\r\n     </g>\r\n    </g>\r\n    <g id=\"ytick_7\">\r\n     <g id=\"line2d_33\">\r\n      <path clip-path=\"url(#p08d3d04cab)\" d=\"M 40.603125 66.501818 \r\nL 375.403125 66.501818 \r\n\" style=\"fill:none;stroke:#c0c0c0;stroke-linecap:square;stroke-width:0.8;\"/>\r\n     </g>\r\n     <g id=\"line2d_34\">\r\n      <g>\r\n       <use style=\"stroke:#000000;stroke-width:0.8;\" x=\"40.603125\" xlink:href=\"#mda38a52cf9\" y=\"66.501818\"/>\r\n      </g>\r\n     </g>\r\n     <g id=\"text_18\">\r\n      <!-- 14 -->\r\n      <g transform=\"translate(20.878125 70.301037)scale(0.1 -0.1)\">\r\n       <use xlink:href=\"#DejaVuSans-31\"/>\r\n       <use x=\"63.623047\" xlink:href=\"#DejaVuSans-34\"/>\r\n      </g>\r\n     </g>\r\n    </g>\r\n    <g id=\"ytick_8\">\r\n     <g id=\"line2d_35\">\r\n      <path clip-path=\"url(#p08d3d04cab)\" d=\"M 40.603125 41.792727 \r\nL 375.403125 41.792727 \r\n\" style=\"fill:none;stroke:#c0c0c0;stroke-linecap:square;stroke-width:0.8;\"/>\r\n     </g>\r\n     <g id=\"line2d_36\">\r\n      <g>\r\n       <use style=\"stroke:#000000;stroke-width:0.8;\" x=\"40.603125\" xlink:href=\"#mda38a52cf9\" y=\"41.792727\"/>\r\n      </g>\r\n     </g>\r\n     <g id=\"text_19\">\r\n      <!-- 16 -->\r\n      <g transform=\"translate(20.878125 45.591946)scale(0.1 -0.1)\">\r\n       <use xlink:href=\"#DejaVuSans-31\"/>\r\n       <use x=\"63.623047\" xlink:href=\"#DejaVuSans-36\"/>\r\n      </g>\r\n     </g>\r\n    </g>\r\n    <g id=\"ytick_9\">\r\n     <g id=\"line2d_37\">\r\n      <path clip-path=\"url(#p08d3d04cab)\" d=\"M 40.603125 17.083636 \r\nL 375.403125 17.083636 \r\n\" style=\"fill:none;stroke:#c0c0c0;stroke-linecap:square;stroke-width:0.8;\"/>\r\n     </g>\r\n     <g id=\"line2d_38\">\r\n      <g>\r\n       <use style=\"stroke:#000000;stroke-width:0.8;\" x=\"40.603125\" xlink:href=\"#mda38a52cf9\" y=\"17.083636\"/>\r\n      </g>\r\n     </g>\r\n     <g id=\"text_20\">\r\n      <!-- 18 -->\r\n      <g transform=\"translate(20.878125 20.882855)scale(0.1 -0.1)\">\r\n       <use xlink:href=\"#DejaVuSans-31\"/>\r\n       <use x=\"63.623047\" xlink:href=\"#DejaVuSans-38\"/>\r\n      </g>\r\n     </g>\r\n    </g>\r\n    <g id=\"text_21\">\r\n     <!-- Counts -->\r\n     <g transform=\"translate(14.798438 133.373125)rotate(-90)scale(0.1 -0.1)\">\r\n      <defs>\r\n       <path d=\"M 4122 4306 \r\nL 4122 3641 \r\nQ 3803 3938 3442 4084 \r\nQ 3081 4231 2675 4231 \r\nQ 1875 4231 1450 3742 \r\nQ 1025 3253 1025 2328 \r\nQ 1025 1406 1450 917 \r\nQ 1875 428 2675 428 \r\nQ 3081 428 3442 575 \r\nQ 3803 722 4122 1019 \r\nL 4122 359 \r\nQ 3791 134 3420 21 \r\nQ 3050 -91 2638 -91 \r\nQ 1578 -91 968 557 \r\nQ 359 1206 359 2328 \r\nQ 359 3453 968 4101 \r\nQ 1578 4750 2638 4750 \r\nQ 3056 4750 3426 4639 \r\nQ 3797 4528 4122 4306 \r\nz\r\n\" id=\"DejaVuSans-43\" transform=\"scale(0.015625)\"/>\r\n      </defs>\r\n      <use xlink:href=\"#DejaVuSans-43\"/>\r\n      <use x=\"69.824219\" xlink:href=\"#DejaVuSans-6f\"/>\r\n      <use x=\"131.005859\" xlink:href=\"#DejaVuSans-75\"/>\r\n      <use x=\"194.384766\" xlink:href=\"#DejaVuSans-6e\"/>\r\n      <use x=\"257.763672\" xlink:href=\"#DejaVuSans-74\"/>\r\n      <use x=\"296.972656\" xlink:href=\"#DejaVuSans-73\"/>\r\n     </g>\r\n    </g>\r\n   </g>\r\n   <g id=\"line2d_39\">\r\n    <path clip-path=\"url(#p08d3d04cab)\" d=\"M 55.821307 17.083636 \r\nL 89.639489 115.92 \r\nL 123.45767 165.338182 \r\nL 157.275852 177.692727 \r\nL 191.094034 190.047273 \r\nL 224.912216 202.401818 \r\nL 258.730398 202.401818 \r\nL 292.54858 214.756364 \r\nL 326.366761 214.756364 \r\nL 360.184943 214.756364 \r\n\" style=\"fill:none;stroke:#1f77b4;stroke-linecap:square;stroke-width:2;\"/>\r\n   </g>\r\n   <g id=\"patch_3\">\r\n    <path d=\"M 40.603125 224.64 \r\nL 40.603125 7.2 \r\n\" style=\"fill:none;stroke:#000000;stroke-linecap:square;stroke-linejoin:miter;stroke-width:0.8;\"/>\r\n   </g>\r\n   <g id=\"patch_4\">\r\n    <path d=\"M 375.403125 224.64 \r\nL 375.403125 7.2 \r\n\" style=\"fill:none;stroke:#000000;stroke-linecap:square;stroke-linejoin:miter;stroke-width:0.8;\"/>\r\n   </g>\r\n   <g id=\"patch_5\">\r\n    <path d=\"M 40.603125 224.64 \r\nL 375.403125 224.64 \r\n\" style=\"fill:none;stroke:#000000;stroke-linecap:square;stroke-linejoin:miter;stroke-width:0.8;\"/>\r\n   </g>\r\n   <g id=\"patch_6\">\r\n    <path d=\"M 40.603125 7.2 \r\nL 375.403125 7.2 \r\n\" style=\"fill:none;stroke:#000000;stroke-linecap:square;stroke-linejoin:miter;stroke-width:0.8;\"/>\r\n   </g>\r\n  </g>\r\n </g>\r\n <defs>\r\n  <clipPath id=\"p08d3d04cab\">\r\n   <rect height=\"217.44\" width=\"334.8\" x=\"40.603125\" y=\"7.2\"/>\r\n  </clipPath>\r\n </defs>\r\n</svg>\r\n",
      "image/png": "[encoded data removed]"
     },
     "metadata": {
      "needs_background": "light"
     }
    },
    {
     "output_type": "execute_result",
     "data": {
      "text/plain": [
       "<AxesSubplot:xlabel='Samples', ylabel='Counts'>"
      ]
     },
     "metadata": {},
     "execution_count": 22
    }
   ],
   "metadata": {}
  },
  {
   "cell_type": "markdown",
   "source": [
    "Summary:\r\n",
    "\r\n",
    "Based on the graph above, it shows that the most frequent word is \"data\", follow by \"analytics\", \"analysis\" and so on."
   ],
   "metadata": {}
  }
 ],
 "metadata": {
  "orig_nbformat": 4,
  "language_info": {
   "name": "python",
   "version": "3.9.5",
   "mimetype": "text/x-python",
   "codemirror_mode": {
    "name": "ipython",
    "version": 3
   },
   "pygments_lexer": "ipython3",
   "nbconvert_exporter": "python",
   "file_extension": ".py"
  },
  "kernelspec": {
   "name": "python3",
   "display_name": "Python 3.9.5 64-bit"
  },
  "interpreter": {
   "hash": "aa577852df1661a3ac13dc53b9d80839f5b60eb1ae77a9c3cbcad0b995c906c7"
  }
 },
 "nbformat": 4,
 "nbformat_minor": 2
}